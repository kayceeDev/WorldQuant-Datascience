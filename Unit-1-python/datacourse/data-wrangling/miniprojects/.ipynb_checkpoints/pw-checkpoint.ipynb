{
 "cells": [
  {
   "cell_type": "code",
   "execution_count": 1,
   "metadata": {},
   "outputs": [],
   "source": [
    "%matplotlib inline\n",
    "import matplotlib\n",
    "import seaborn as sns\n",
    "matplotlib.rcParams['savefig.dpi'] = 144"
   ]
  },
  {
   "cell_type": "code",
   "execution_count": 2,
   "metadata": {},
   "outputs": [],
   "source": [
    "from static_grader import grader"
   ]
  },
  {
   "cell_type": "markdown",
   "metadata": {},
   "source": [
    "# PW Miniproject\n",
    "## Introduction\n",
    "\n",
    "The objective of this miniproject is to exercise your ability to use basic Python data structures, define functions, and control program flow. We will be using these concepts to perform some fundamental data wrangling tasks such as joining data sets together, splitting data into groups, and aggregating data into summary statistics.\n",
    "**Please do not use `pandas` or `numpy` to answer these questions.**\n",
    "\n",
    "We will be working with medical data from the British NHS on prescription drugs. Since this is real data, it contains many ambiguities that we will need to confront in our analysis. This is commonplace in data science, and is one of the lessons you will learn in this miniproject."
   ]
  },
  {
   "cell_type": "markdown",
   "metadata": {},
   "source": [
    "## Downloading the data\n",
    "\n",
    "We first need to download the data we'll be using from Amazon S3:"
   ]
  },
  {
   "cell_type": "code",
   "execution_count": 3,
   "metadata": {},
   "outputs": [
    {
     "name": "stderr",
     "output_type": "stream",
     "text": [
      "--2019-11-12 11:33:59--  http://dataincubator-wqu.s3.amazonaws.com/pwdata/201701scripts_sample.json.gz\n",
      "Resolving dataincubator-wqu.s3.amazonaws.com (dataincubator-wqu.s3.amazonaws.com)... 52.216.20.72\n",
      "Connecting to dataincubator-wqu.s3.amazonaws.com (dataincubator-wqu.s3.amazonaws.com)|52.216.20.72|:80... connected.\n",
      "HTTP request sent, awaiting response... 200 OK\n",
      "Length: 10367709 (9.9M) [application/json]\n",
      "Saving to: ‘./pw-data/201701scripts_sample.json.gz’\n",
      "\n",
      "     0K .......... .......... .......... .......... ..........  0% 28.0M 0s\n",
      "    50K .......... .......... .......... .......... ..........  0% 24.4M 0s\n",
      "   100K .......... .......... .......... .......... ..........  1% 35.8M 0s\n",
      "   150K .......... .......... .......... .......... ..........  1% 34.9M 0s\n",
      "   200K .......... .......... .......... .......... ..........  2% 87.0M 0s\n",
      "   250K .......... .......... .......... .......... ..........  2%  281M 0s\n",
      "   300K .......... .......... .......... .......... ..........  3%  163M 0s\n",
      "   350K .......... .......... .......... .......... ..........  3%  109M 0s\n",
      "   400K .......... .......... .......... .......... ..........  4% 27.9M 0s\n",
      "   450K .......... .......... .......... .......... ..........  4% 24.9M 0s\n",
      "   500K .......... .......... .......... .......... ..........  5%  173M 0s\n",
      "   550K .......... .......... .......... .......... ..........  5% 67.5M 0s\n",
      "   600K .......... .......... .......... .......... ..........  6% 25.0M 0s\n",
      "   650K .......... .......... .......... .......... ..........  6% 55.5M 0s\n",
      "   700K .......... .......... .......... .......... ..........  7% 40.3M 0s\n",
      "   750K .......... .......... .......... .......... ..........  7%  241M 0s\n",
      "   800K .......... .......... .......... .......... ..........  8%  402M 0s\n",
      "   850K .......... .......... .......... .......... ..........  8%  372M 0s\n",
      "   900K .......... .......... .......... .......... ..........  9%  185M 0s\n",
      "   950K .......... .......... .......... .......... ..........  9%  241M 0s\n",
      "  1000K .......... .......... .......... .......... .......... 10%  192M 0s\n",
      "  1050K .......... .......... .......... .......... .......... 10% 33.0M 0s\n",
      "  1100K .......... .......... .......... .......... .......... 11% 21.2M 0s\n",
      "  1150K .......... .......... .......... .......... .......... 11% 23.5M 0s\n",
      "  1200K .......... .......... .......... .......... .......... 12%  159M 0s\n",
      "  1250K .......... .......... .......... .......... .......... 12%  152M 0s\n",
      "  1300K .......... .......... .......... .......... .......... 13% 57.1M 0s\n",
      "  1350K .......... .......... .......... .......... .......... 13% 21.9M 0s\n",
      "  1400K .......... .......... .......... .......... .......... 14% 49.1M 0s\n",
      "  1450K .......... .......... .......... .......... .......... 14% 48.3M 0s\n",
      "  1500K .......... .......... .......... .......... .......... 15%  182M 0s\n",
      "  1550K .......... .......... .......... .......... .......... 15% 68.6M 0s\n",
      "  1600K .......... .......... .......... .......... .......... 16% 28.0M 0s\n",
      "  1650K .......... .......... .......... .......... .......... 16% 58.4M 0s\n",
      "  1700K .......... .......... .......... .......... .......... 17% 52.9M 0s\n",
      "  1750K .......... .......... .......... .......... .......... 17%  280M 0s\n",
      "  1800K .......... .......... .......... .......... .......... 18% 35.6M 0s\n",
      "  1850K .......... .......... .......... .......... .......... 18% 38.3M 0s\n",
      "  1900K .......... .......... .......... .......... .......... 19%  397M 0s\n",
      "  1950K .......... .......... .......... .......... .......... 19%  383M 0s\n",
      "  2000K .......... .......... .......... .......... .......... 20%  403M 0s\n",
      "  2050K .......... .......... .......... .......... .......... 20% 55.0M 0s\n",
      "  2100K .......... .......... .......... .......... .......... 21% 25.6M 0s\n",
      "  2150K .......... .......... .......... .......... .......... 21%  158M 0s\n",
      "  2200K .......... .......... .......... .......... .......... 22%  184M 0s\n",
      "  2250K .......... .......... .......... .......... .......... 22%  145M 0s\n",
      "  2300K .......... .......... .......... .......... .......... 23% 33.6M 0s\n",
      "  2350K .......... .......... .......... .......... .......... 23% 39.6M 0s\n",
      "  2400K .......... .......... .......... .......... .......... 24% 22.2M 0s\n",
      "  2450K .......... .......... .......... .......... .......... 24%  125M 0s\n",
      "  2500K .......... .......... .......... .......... .......... 25%  277M 0s\n",
      "  2550K .......... .......... .......... .......... .......... 25%  248M 0s\n",
      "  2600K .......... .......... .......... .......... .......... 26%  176M 0s\n",
      "  2650K .......... .......... .......... .......... .......... 26% 27.6M 0s\n",
      "  2700K .......... .......... .......... .......... .......... 27% 27.3M 0s\n",
      "  2750K .......... .......... .......... .......... .......... 27% 93.6M 0s\n",
      "  2800K .......... .......... .......... .......... .......... 28%  158M 0s\n",
      "  2850K .......... .......... .......... .......... .......... 28%  139M 0s\n",
      "  2900K .......... .......... .......... .......... .......... 29% 22.3M 0s\n",
      "  2950K .......... .......... .......... .......... .......... 29% 35.2M 0s\n",
      "  3000K .......... .......... .......... .......... .......... 30%  345M 0s\n",
      "  3050K .......... .......... .......... .......... .......... 30%  349M 0s\n",
      "  3100K .......... .......... .......... .......... .......... 31%  406M 0s\n",
      "  3150K .......... .......... .......... .......... .......... 31%  384M 0s\n",
      "  3200K .......... .......... .......... .......... .......... 32%  394M 0s\n",
      "  3250K .......... .......... .......... .......... .......... 32%  303M 0s\n",
      "  3300K .......... .......... .......... .......... .......... 33%  360M 0s\n",
      "  3350K .......... .......... .......... .......... .......... 33%  391M 0s\n",
      "  3400K .......... .......... .......... .......... .......... 34%  161M 0s\n",
      "  3450K .......... .......... .......... .......... .......... 34%  136M 0s\n",
      "  3500K .......... .......... .......... .......... .......... 35% 51.5M 0s\n",
      "  3550K .......... .......... .......... .......... .......... 35% 33.2M 0s\n",
      "  3600K .......... .......... .......... .......... .......... 36% 40.3M 0s\n",
      "  3650K .......... .......... .......... .......... .......... 36% 24.3M 0s\n",
      "  3700K .......... .......... .......... .......... .......... 37% 25.1M 0s\n",
      "  3750K .......... .......... .......... .......... .......... 37% 42.7M 0s\n",
      "  3800K .......... .......... .......... .......... .......... 38%  170M 0s\n",
      "  3850K .......... .......... .......... .......... .......... 38%  160M 0s\n",
      "  3900K .......... .......... .......... .......... .......... 39% 29.5M 0s\n",
      "  3950K .......... .......... .......... .......... .......... 39% 27.2M 0s\n",
      "  4000K .......... .......... .......... .......... .......... 40% 68.3M 0s\n",
      "  4050K .......... .......... .......... .......... .......... 40%  133M 0s\n",
      "  4100K .......... .......... .......... .......... .......... 40% 71.7M 0s\n",
      "  4150K .......... .......... .......... .......... .......... 41% 24.5M 0s\n",
      "  4200K .......... .......... .......... .......... .......... 41% 30.3M 0s\n",
      "  4250K .......... .......... .......... .......... .......... 42% 51.5M 0s\n",
      "  4300K .......... .......... .......... .......... .......... 42% 35.4M 0s\n",
      "  4350K .......... .......... .......... .......... .......... 43%  335M 0s\n",
      "  4400K .......... .......... .......... .......... .......... 43%  371M 0s\n",
      "  4450K .......... .......... .......... .......... .......... 44%  316M 0s\n",
      "  4500K .......... .......... .......... .......... .......... 44%  251M 0s\n",
      "  4550K .......... .......... .......... .......... .......... 45%  169M 0s\n",
      "  4600K .......... .......... .......... .......... .......... 45%  175M 0s\n",
      "  4650K .......... .......... .......... .......... .......... 46% 30.3M 0s\n",
      "  4700K .......... .......... .......... .......... .......... 46% 19.8M 0s\n",
      "  4750K .......... .......... .......... .......... .......... 47% 43.5M 0s\n",
      "  4800K .......... .......... .......... .......... .......... 47%  174M 0s\n",
      "  4850K .......... .......... .......... .......... .......... 48%  164M 0s\n",
      "  4900K .......... .......... .......... .......... .......... 48%  153M 0s\n",
      "  4950K .......... .......... .......... .......... .......... 49% 23.4M 0s\n",
      "  5000K .......... .......... .......... .......... .......... 49% 31.7M 0s\n",
      "  5050K .......... .......... .......... .......... .......... 50% 38.6M 0s\n",
      "  5100K .......... .......... .......... .......... .......... 50%  239M 0s\n",
      "  5150K .......... .......... .......... .......... .......... 51%  228M 0s\n",
      "  5200K .......... .......... .......... .......... .......... 51%  175M 0s\n",
      "  5250K .......... .......... .......... .......... .......... 52% 25.9M 0s\n",
      "  5300K .......... .......... .......... .......... .......... 52% 41.9M 0s\n",
      "  5350K .......... .......... .......... .......... .......... 53%  148M 0s\n",
      "  5400K .......... .......... .......... .......... .......... 53% 26.8M 0s\n",
      "  5450K .......... .......... .......... .......... .......... 54%  289M 0s\n",
      "  5500K .......... .......... .......... .......... .......... 54%  359M 0s\n",
      "  5550K .......... .......... .......... .......... .......... 55%  417M 0s\n",
      "  5600K .......... .......... .......... .......... .......... 55%  368M 0s\n",
      "  5650K .......... .......... .......... .......... .......... 56%  132M 0s\n",
      "  5700K .......... .......... .......... .......... .......... 56%  159M 0s\n",
      "  5750K .......... .......... .......... .......... .......... 57% 39.6M 0s\n",
      "  5800K .......... .......... .......... .......... .......... 57% 29.2M 0s\n",
      "  5850K .......... .......... .......... .......... .......... 58% 18.3M 0s\n",
      "  5900K .......... .......... .......... .......... .......... 58% 52.7M 0s\n",
      "  5950K .......... .......... .......... .......... .......... 59%  363M 0s\n",
      "  6000K .......... .......... .......... .......... .......... 59%  416M 0s\n",
      "  6050K .......... .......... .......... .......... .......... 60%  332M 0s\n",
      "  6100K .......... .......... .......... .......... .......... 60%  436M 0s\n",
      "  6150K .......... .......... .......... .......... .......... 61%  354M 0s\n",
      "  6200K .......... .......... .......... .......... .......... 61%  414M 0s\n",
      "  6250K .......... .......... .......... .......... .......... 62%  348M 0s\n",
      "  6300K .......... .......... .......... .......... .......... 62%  406M 0s\n",
      "  6350K .......... .......... .......... .......... .......... 63%  411M 0s\n",
      "  6400K .......... .......... .......... .......... .......... 63%  455M 0s\n",
      "  6450K .......... .......... .......... .......... .......... 64% 11.4M 0s\n",
      "  6500K .......... .......... .......... .......... .......... 64% 19.3M 0s\n",
      "  6550K .......... .......... .......... .......... .......... 65% 30.1M 0s\n",
      "  6600K .......... .......... .......... .......... .......... 65% 43.9M 0s\n",
      "  6650K .......... .......... .......... .......... .......... 66%  200M 0s\n",
      "  6700K .......... .......... .......... .......... .......... 66% 30.4M 0s\n",
      "  6750K .......... .......... .......... .......... .......... 67%  128M 0s\n",
      "  6800K .......... .......... .......... .......... .......... 67%  200M 0s\n",
      "  6850K .......... .......... .......... .......... .......... 68% 62.6M 0s\n",
      "  6900K .......... .......... .......... .......... .......... 68% 22.7M 0s\n",
      "  6950K .......... .......... .......... .......... .......... 69%  215M 0s\n",
      "  7000K .......... .......... .......... .......... .......... 69%  368M 0s\n",
      "  7050K .......... .......... .......... .......... .......... 70% 27.8M 0s\n",
      "  7100K .......... .......... .......... .......... .......... 70% 67.2M 0s\n",
      "  7150K .......... .......... .......... .......... .......... 71%  192M 0s\n",
      "  7200K .......... .......... .......... .......... .......... 71%  177M 0s\n",
      "  7250K .......... .......... .......... .......... .......... 72% 38.9M 0s\n",
      "  7300K .......... .......... .......... .......... .......... 72% 20.3M 0s\n",
      "  7350K .......... .......... .......... .......... .......... 73%  186M 0s\n",
      "  7400K .......... .......... .......... .......... .......... 73%  179M 0s\n",
      "  7450K .......... .......... .......... .......... .......... 74%  213M 0s\n",
      "  7500K .......... .......... .......... .......... .......... 74% 20.8M 0s\n",
      "  7550K .......... .......... .......... .......... .......... 75% 67.1M 0s\n",
      "  7600K .......... .......... .......... .......... .......... 75% 70.1M 0s\n",
      "  7650K .......... .......... .......... .......... .......... 76%  223M 0s\n",
      "  7700K .......... .......... .......... .......... .......... 76%  184M 0s\n",
      "  7750K .......... .......... .......... .......... .......... 77%  290M 0s\n",
      "  7800K .......... .......... .......... .......... .......... 77% 38.3M 0s\n",
      "  7850K .......... .......... .......... .......... .......... 78% 79.6M 0s\n",
      "  7900K .......... .......... .......... .......... .......... 78% 69.7M 0s\n",
      "  7950K .......... .......... .......... .......... .......... 79% 87.6M 0s\n",
      "  8000K .......... .......... .......... .......... .......... 79%  338M 0s\n",
      "  8050K .......... .......... .......... .......... .......... 80%  401M 0s\n",
      "  8100K .......... .......... .......... .......... .......... 80%  361M 0s\n",
      "  8150K .......... .......... .......... .......... .......... 80%  786K 0s\n",
      "  8200K .......... .......... .......... .......... .......... 81% 39.4M 0s\n",
      "  8250K .......... .......... .......... .......... .......... 81% 58.3M 0s\n",
      "  8300K .......... .......... .......... .......... .......... 82%  163M 0s\n",
      "  8350K .......... .......... .......... .......... .......... 82% 73.7M 0s\n",
      "  8400K .......... .......... .......... .......... .......... 83% 34.2M 0s\n",
      "  8450K .......... .......... .......... .......... .......... 83%  287M 0s\n",
      "  8500K .......... .......... .......... .......... .......... 84% 48.2M 0s\n",
      "  8550K .......... .......... .......... .......... .......... 84%  123M 0s\n",
      "  8600K .......... .......... .......... .......... .......... 85%  217M 0s\n",
      "  8650K .......... .......... .......... .......... .......... 85% 47.1M 0s\n",
      "  8700K .......... .......... .......... .......... .......... 86%  234M 0s\n",
      "  8750K .......... .......... .......... .......... .......... 86% 48.0M 0s\n",
      "  8800K .......... .......... .......... .......... .......... 87% 51.5M 0s\n",
      "  8850K .......... .......... .......... .......... .......... 87%  233M 0s\n",
      "  8900K .......... .......... .......... .......... .......... 88% 47.9M 0s\n",
      "  8950K .......... .......... .......... .......... .......... 88% 49.4M 0s\n",
      "  9000K .......... .......... .......... .......... .......... 89% 76.8M 0s\n",
      "  9050K .......... .......... .......... .......... .......... 89%  330M 0s\n",
      "  9100K .......... .......... .......... .......... .......... 90%  208M 0s\n",
      "  9150K .......... .......... .......... .......... .......... 90% 37.1M 0s\n",
      "  9200K .......... .......... .......... .......... .......... 91%  163M 0s\n",
      "  9250K .......... .......... .......... .......... .......... 91%  222M 0s\n",
      "  9300K .......... .......... .......... .......... .......... 92% 27.7M 0s\n",
      "  9350K .......... .......... .......... .......... .......... 92%  145M 0s\n",
      "  9400K .......... .......... .......... .......... .......... 93%  187M 0s\n",
      "  9450K .......... .......... .......... .......... .......... 93%  157M 0s\n",
      "  9500K .......... .......... .......... .......... .......... 94% 28.7M 0s\n",
      "  9550K .......... .......... .......... .......... .......... 94%  367M 0s\n",
      "  9600K .......... .......... .......... .......... .......... 95% 56.2M 0s\n",
      "  9650K .......... .......... .......... .......... .......... 95%  100M 0s\n",
      "  9700K .......... .......... .......... .......... .......... 96%  217M 0s\n",
      "  9750K .......... .......... .......... .......... .......... 96% 62.3M 0s\n",
      "  9800K .......... .......... .......... .......... .......... 97% 43.1M 0s\n",
      "  9850K .......... .......... .......... .......... .......... 97%  311M 0s\n",
      "  9900K .......... .......... .......... .......... .......... 98%  176M 0s\n",
      "  9950K .......... .......... .......... .......... .......... 98% 27.8M 0s\n",
      " 10000K .......... .......... .......... .......... .......... 99%  124M 0s\n",
      " 10050K .......... .......... .......... .......... .......... 99%  462M 0s\n",
      " 10100K .......... .......... ....                            100%  385M=0.2s\n",
      "\n",
      "2019-11-12 11:34:00 (44.1 MB/s) - ‘./pw-data/201701scripts_sample.json.gz’ saved [10367709/10367709]\n",
      "\n",
      "--2019-11-12 11:34:00--  http://dataincubator-wqu.s3.amazonaws.com/pwdata/practices.json.gz\n",
      "Resolving dataincubator-wqu.s3.amazonaws.com (dataincubator-wqu.s3.amazonaws.com)... 52.216.20.72\n",
      "Connecting to dataincubator-wqu.s3.amazonaws.com (dataincubator-wqu.s3.amazonaws.com)|52.216.20.72|:80... connected.\n",
      "HTTP request sent, awaiting response... 200 OK\n",
      "Length: 402461 (393K) [application/json]\n",
      "Saving to: ‘./pw-data/practices.json.gz’\n",
      "\n",
      "     0K .......... .......... .......... .......... .......... 12% 34.6M 0s\n",
      "    50K .......... .......... .......... .......... .......... 25% 33.6M 0s\n",
      "   100K .......... .......... .......... .......... .......... 38% 47.5M 0s\n",
      "   150K .......... .......... .......... .......... .......... 50% 42.7M 0s\n",
      "   200K .......... .......... .......... .......... .......... 63% 43.2M 0s\n",
      "   250K .......... .......... .......... .......... .......... 76% 42.0M 0s\n",
      "   300K .......... .......... .......... .......... .......... 89% 69.0M 0s\n",
      "   350K .......... .......... .......... .......... ...       100% 70.8M=0.009s\n",
      "\n",
      "2019-11-12 11:34:00 (44.5 MB/s) - ‘./pw-data/practices.json.gz’ saved [402461/402461]\n",
      "\n"
     ]
    }
   ],
   "source": [
    "%%bash\n",
    "mkdir pw-data\n",
    "wget http://dataincubator-wqu.s3.amazonaws.com/pwdata/201701scripts_sample.json.gz -nc -P ./pw-data\n",
    "wget http://dataincubator-wqu.s3.amazonaws.com/pwdata/practices.json.gz -nc -P ./pw-data"
   ]
  },
  {
   "cell_type": "markdown",
   "metadata": {},
   "source": [
    "## Loading the data\n",
    "\n",
    "The first step of the project is to read in the data. We will discuss reading and writing various kinds of files later in the course, but the code below should get you started."
   ]
  },
  {
   "cell_type": "code",
   "execution_count": null,
   "metadata": {},
   "outputs": [],
   "source": [
    "import gzip\n",
    "import simplejson as json"
   ]
  },
  {
   "cell_type": "code",
   "execution_count": null,
   "metadata": {},
   "outputs": [],
   "source": [
    "with gzip.open('./pw-data/201701scripts_sample.json.gz', 'rb') as f:\n",
    "    scripts = json.load(f)\n",
    "\n",
    "with gzip.open('./pw-data/practices.json.gz', 'rb') as f:\n",
    "    practices = json.load(f)"
   ]
  },
  {
   "cell_type": "markdown",
   "metadata": {},
   "source": [
    "This data set comes from Britain's National Health Service. The `scripts` variable is a list of prescriptions issued by NHS doctors. Each prescription is represented by a dictionary with various data fields: `'practice'`, `'bnf_code'`, `'bnf_name'`, `'quantity'`, `'items'`, `'nic'`, and `'act_cost'`. "
   ]
  },
  {
   "cell_type": "code",
   "execution_count": null,
   "metadata": {},
   "outputs": [],
   "source": [
    "scripts[:2]"
   ]
  },
  {
   "cell_type": "markdown",
   "metadata": {},
   "source": [
    "A [glossary of terms](http://webarchive.nationalarchives.gov.uk/20180328130852tf_/http://content.digital.nhs.uk/media/10686/Download-glossary-of-terms-for-GP-prescribing---presentation-level/pdf/PLP_Presentation_Level_Glossary_April_2015.pdf/) and [FAQ](http://webarchive.nationalarchives.gov.uk/20180328130852tf_/http://content.digital.nhs.uk/media/10048/FAQs-Practice-Level-Prescribingpdf/pdf/PLP_FAQs_April_2015.pdf/) is available from the NHS regarding the data. Below we supply a data dictionary briefly describing what these fields mean.\n",
    "\n",
    "| Data field |Description|\n",
    "|:----------:|-----------|\n",
    "|`'practice'`|Code designating the medical practice issuing the prescription|\n",
    "|`'bnf_code'`|British National Formulary drug code|\n",
    "|`'bnf_name'`|British National Formulary drug name|\n",
    "|`'quantity'`|Number of capsules/quantity of liquid/grams of powder prescribed|\n",
    "| `'items'`  |Number of refills (e.g. if `'quantity'` is 30 capsules, 3 `'items'` means 3 bottles of 30 capsules)|\n",
    "|  `'nic'`   |Net ingredient cost|\n",
    "|`'act_cost'`|Total cost including containers, fees, and discounts|"
   ]
  },
  {
   "cell_type": "markdown",
   "metadata": {},
   "source": [
    "The `practices` variable is a list of member medical practices of the NHS. Each practice is represented by a dictionary containing identifying information for the medical practice. Most of the data fields are self-explanatory. Notice the values in the `'code'` field of `practices` match the values in the `'practice'` field of `scripts`."
   ]
  },
  {
   "cell_type": "code",
   "execution_count": null,
   "metadata": {},
   "outputs": [],
   "source": [
    "practices[:2]"
   ]
  },
  {
   "cell_type": "markdown",
   "metadata": {},
   "source": [
    "In the following questions we will ask you to explore this data set. You may need to combine pieces of the data set together in order to answer some questions. Not every element of the data set will be used in answering the questions."
   ]
  },
  {
   "cell_type": "markdown",
   "metadata": {},
   "source": [
    "## Question 1: summary_statistics\n",
    "\n",
    "Our beneficiary data (`scripts`) contains quantitative data on the number of items dispensed (`'items'`), the total quantity of item dispensed (`'quantity'`), the net cost of the ingredients (`'nic'`), and the actual cost to the patient (`'act_cost'`). Whenever working with a new data set, it can be useful to calculate summary statistics to develop a feeling for the volume and character of the data. This makes it easier to spot trends and significant features during further stages of analysis.\n",
    "\n",
    "Calculate the sum, mean, standard deviation, and quartile statistics for each of these quantities. Format your results for each quantity as a list: `[sum, mean, standard deviation, 1st quartile, median, 3rd quartile]`. We'll create a `tuple` with these lists for each quantity as a final result."
   ]
  },
  {
   "cell_type": "code",
   "execution_count": null,
   "metadata": {},
   "outputs": [],
   "source": [
    "\n",
    "def describe(key):\n",
    "\n",
    "    total = 0\n",
    "    avg = 0\n",
    "    s = 0\n",
    "    q25 = 0\n",
    "    med = 0\n",
    "    q75 = 0\n",
    "\n",
    "    return (total, avg, s, q25, med, q75)"
   ]
  },
  {
   "cell_type": "code",
   "execution_count": null,
   "metadata": {},
   "outputs": [],
   "source": [
    "summary = [('items', describe('items')),\n",
    "           ('quantity', describe('quantity')),\n",
    "           ('nic', describe('nic')),\n",
    "           ('act_cost', describe('act_cost'))]"
   ]
  },
  {
   "cell_type": "code",
   "execution_count": null,
   "metadata": {},
   "outputs": [],
   "source": [
    "grader.score.pw__summary_statistics(summary)"
   ]
  },
  {
   "cell_type": "markdown",
   "metadata": {},
   "source": [
    "## Question 2: most_common_item\n",
    "\n",
    "Often we are not interested only in how the data is distributed in our entire data set, but within particular groups -- for example, how many items of each drug (i.e. `'bnf_name'`) were prescribed? Calculate the total items prescribed for each `'bnf_name'`. What is the most commonly prescribed `'bnf_name'` in our data?\n",
    "\n",
    "To calculate this, we first need to split our data set into groups corresponding with the different values of `'bnf_name'`. Then we can sum the number of items dispensed within in each group. Finally we can find the largest sum.\n",
    "\n",
    "We'll use `'bnf_name'` to construct our groups. You should have *5619* unique values for `'bnf_name'`."
   ]
  },
  {
   "cell_type": "code",
   "execution_count": null,
   "metadata": {},
   "outputs": [],
   "source": [
    "bnf_names = ...\n",
    "assert(len(bnf_names) == 5619)"
   ]
  },
  {
   "cell_type": "markdown",
   "metadata": {},
   "source": [
    "We want to construct \"groups\" identified by `'bnf_name'`, where each group is a collection of prescriptions (i.e. dictionaries from `scripts`). We'll construct a dictionary called `groups`, using `bnf_names` as the keys. We'll represent a group with a `list`, since we can easily append new members to the group. To split our `scripts` into groups by `'bnf_name'`, we should iterate over `scripts`, appending prescription dictionaries to each group as we encounter them."
   ]
  },
  {
   "cell_type": "code",
   "execution_count": null,
   "metadata": {},
   "outputs": [],
   "source": [
    "groups = {name: [] for name in bnf_names}\n",
    "for script in scripts:\n",
    "    # INSERT ..."
   ]
  },
  {
   "cell_type": "markdown",
   "metadata": {},
   "source": [
    "Now that we've constructed our groups we should sum up `'items'` in each group and find the `'bnf_name'` with the largest sum. The result, `max_item`, should have the form `[(bnf_name, item total)]`, e.g. `[('Foobar', 2000)]`."
   ]
  },
  {
   "cell_type": "code",
   "execution_count": null,
   "metadata": {},
   "outputs": [],
   "source": [
    "max_item = [(\"\", 0)]"
   ]
  },
  {
   "cell_type": "markdown",
   "metadata": {},
   "source": [
    "**TIP:** If you are getting an error from the grader below, please make sure your answer conforms to the correct format of `[(bnf_name, item total)]`."
   ]
  },
  {
   "cell_type": "code",
   "execution_count": null,
   "metadata": {},
   "outputs": [],
   "source": [
    "grader.score.pw__most_common_item(max_item)"
   ]
  },
  {
   "cell_type": "markdown",
   "metadata": {},
   "source": [
    "**Challenge:** Write a function that constructs groups as we did above. The function should accept a list of dictionaries (e.g. `scripts` or `practices`) and a tuple of fields to `groupby` (e.g. `('bnf_name')` or `('bnf_name', 'post_code')`) and returns a dictionary of groups. The following questions will require you to aggregate data in groups, so this could be a useful function for the rest of the miniproject."
   ]
  },
  {
   "cell_type": "code",
   "execution_count": null,
   "metadata": {},
   "outputs": [],
   "source": [
    "def group_by_field(data, fields):\n",
    "    groups = {}\n",
    "    return groups"
   ]
  },
  {
   "cell_type": "code",
   "execution_count": null,
   "metadata": {},
   "outputs": [],
   "source": [
    "groups = group_by_field(scripts, ('bnf_name',))\n",
    "test_max_item = ...\n",
    "\n",
    "assert test_max_item == max_item"
   ]
  },
  {
   "cell_type": "markdown",
   "metadata": {},
   "source": [
    "## Question 3: postal_totals\n",
    "\n",
    "Our data set is broken up among different files. This is typical for tabular data to reduce redundancy. Each table typically contains data about a particular type of event, processes, or physical object. Data on prescriptions and medical practices are in separate files in our case. If we want to find the total items prescribed in each postal code, we will have to _join_ our prescription data (`scripts`) to our clinic data (`practices`).\n",
    "\n",
    "Find the total items prescribed in each postal code, representing the results as a list of tuples `(post code, total items prescribed)`. Sort your results ascending alphabetically by post code and take only results from the first 100 post codes. Only include post codes if there is at least one prescription from a practice in that post code.\n",
    "\n",
    "**NOTE:** Some practices have multiple postal codes associated with them. Use the alphabetically first postal code."
   ]
  },
  {
   "cell_type": "markdown",
   "metadata": {},
   "source": [
    "We can join `scripts` and `practices` based on the fact that `'practice'` in `scripts` matches `'code'` in `practices`. However, we must first deal with the repeated values of `'code'` in `practices`. We want the alphabetically first postal codes."
   ]
  },
  {
   "cell_type": "code",
   "execution_count": null,
   "metadata": {},
   "outputs": [],
   "source": [
    "practice_postal = {}\n",
    "for practice in practices:\n",
    "    if practice['code'] in practice_postal:\n",
    "        practice_postal[practice['code']] = ...\n",
    "    else:\n",
    "        practice_postal[practice['code']] = ..."
   ]
  },
  {
   "cell_type": "markdown",
   "metadata": {},
   "source": [
    "**Challenge:** This is an aggregation of the practice data grouped by practice codes. Write an alternative implementation of the above cell using the `group_by_field` function you defined previously."
   ]
  },
  {
   "cell_type": "code",
   "execution_count": null,
   "metadata": {},
   "outputs": [],
   "source": [
    "assert practice_postal['K82019'] == 'HP21 8TR'"
   ]
  },
  {
   "cell_type": "markdown",
   "metadata": {},
   "source": [
    "**Challenge:** This is an aggregation of the practice data grouped by practice codes. Write an alternative implementation of the above cell using the `group_by_field` function you defined previously."
   ]
  },
  {
   "cell_type": "code",
   "execution_count": null,
   "metadata": {},
   "outputs": [],
   "source": [
    "assert practice_postal['K82019'] == 'HP21 8TR'"
   ]
  },
  {
   "cell_type": "markdown",
   "metadata": {},
   "source": [
    "Now we can join `practice_postal` to `scripts`."
   ]
  },
  {
   "cell_type": "code",
   "execution_count": null,
   "metadata": {},
   "outputs": [],
   "source": [
    "joined = scripts[:]\n",
    "for script in joined:\n",
    "    script['post_code'] = ..."
   ]
  },
  {
   "cell_type": "markdown",
   "metadata": {},
   "source": [
    "Finally we'll group the prescription dictionaries in `joined` by `'post_code'` and sum up the items prescribed in each group, as we did in the previous question."
   ]
  },
  {
   "cell_type": "code",
   "execution_count": null,
   "metadata": {},
   "outputs": [],
   "source": [
    "items_by_post = ..."
   ]
  },
  {
   "cell_type": "code",
   "execution_count": null,
   "metadata": {},
   "outputs": [],
   "source": [
    "postal_totals = [('B11 4BW', 20673)] * 100\n",
    "\n",
    "grader.score.pw__postal_totals(postal_totals)"
   ]
  },
  {
   "cell_type": "markdown",
   "metadata": {},
   "source": [
    "## Question 4: items_by_region\n",
    "\n",
    "Now we'll combine the techniques we've developed to answer a more complex question. Find the most commonly dispensed item in each postal code, representing the results as a list of tuples (`post_code`, `bnf_name`, amount dispensed as proportion of total). Sort your results ascending alphabetically by post code and take only results from the first 100 post codes.\n",
    "\n",
    "**NOTE:** We'll continue to use the `joined` variable we created before, where we've chosen the alphabetically first postal code for each practice. Additionally, some postal codes will have multiple `'bnf_name'` with the same number of items prescribed for the maximum. In this case, we'll take the alphabetically first `'bnf_name'`."
   ]
  },
  {
   "cell_type": "markdown",
   "metadata": {},
   "source": [
    "Now we need to calculate the total items of each `'bnf_name'` prescribed in each `'post_code'`. Use the techniques we developed in the previous questions to calculate these totals. You should have 141196 `('post_code', 'bnf_name')` groups."
   ]
  },
  {
   "cell_type": "code",
   "execution_count": null,
   "metadata": {},
   "outputs": [],
   "source": [
    "total_items_by_bnf_post = ...\n",
    "assert len(total_items_by_bnf_post) == 141196"
   ]
  },
  {
   "cell_type": "markdown",
   "metadata": {},
   "source": [
    "Let's use `total_items` to find the maximum item total for each postal code. To do this, we will want to regroup `total_items_by_bnf_post` by `'post_code'` only, not by `('post_code', 'bnf_name')`. First let's turn `total_items` into a list of dictionaries (similar to `scripts` or `practices`) and then group it by `'post_code'`. You should have 118 groups in the resulting `total_items_by_post` after grouping `total_items` by `'post_code'`."
   ]
  },
  {
   "cell_type": "code",
   "execution_count": null,
   "metadata": {},
   "outputs": [],
   "source": [
    "total_items = ...\n",
    "assert len(total_items_by_post) == 118"
   ]
  },
  {
   "cell_type": "markdown",
   "metadata": {},
   "source": [
    "Now we will aggregate the groups in `total_by_item_post` to create `max_item_by_post`. Some `'bnf_name'` have the same item total within a given postal code. Therefore, if more than one `'bnf_name'` has the maximum item total in a given postal code, we'll take the alphabetically first `'bnf_name'`. We can do this by [sorting](https://docs.python.org/2.7/howto/sorting.html) each group according to the item total and `'bnf_name'`."
   ]
  },
  {
   "cell_type": "code",
   "execution_count": null,
   "metadata": {},
   "outputs": [],
   "source": [
    "max_item_by_post = ..."
   ]
  },
  {
   "cell_type": "markdown",
   "metadata": {},
   "source": [
    "In order to express the item totals as a proportion of the total amount of items prescribed across all `'bnf_name'` in a postal code, we'll need to use the total items prescribed that we previously calculated as `items_by_post`. Calculate the proportions for the most common `'bnf_names'` for each postal code. Format your answer as a list of tuples: `[(post_code, bnf_name, total)]`"
   ]
  },
  {
   "cell_type": "code",
   "execution_count": null,
   "metadata": {},
   "outputs": [],
   "source": [
    "items_by_region = [('B11 4BW', 'Salbutamol_Inha 100mcg (200 D) CFF', 0.0341508247)] * 100"
   ]
  },
  {
   "cell_type": "code",
   "execution_count": null,
   "metadata": {},
   "outputs": [],
   "source": [
    "grader.score.pw__items_by_region(items_by_region)"
   ]
  },
  {
   "cell_type": "markdown",
   "metadata": {},
   "source": [
    "*Copyright &copy; 2017 The Data Incubator.  All rights reserved.*"
   ]
  }
 ],
 "metadata": {
  "kernelspec": {
   "display_name": "Python 3",
   "language": "python",
   "name": "python3"
  },
  "language_info": {
   "codemirror_mode": {
    "name": "ipython",
    "version": 3
   },
   "file_extension": ".py",
   "mimetype": "text/x-python",
   "name": "python",
   "nbconvert_exporter": "python",
   "pygments_lexer": "ipython3",
   "version": "3.7.3"
  },
  "nbclean": true
 },
 "nbformat": 4,
 "nbformat_minor": 1
}
